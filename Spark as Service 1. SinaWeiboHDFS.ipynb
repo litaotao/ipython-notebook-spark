{
 "metadata": {
  "name": ""
 },
 "nbformat": 3,
 "nbformat_minor": 0,
 "worksheets": [
  {
   "cells": [
    {
     "cell_type": "markdown",
     "metadata": {},
     "source": [
      "# ***SinaWeiboHDFS***\n",
      "\n",
      "### Fetch sina weibo message data from HDFS, and do what ever you want."
     ]
    },
    {
     "cell_type": "markdown",
     "metadata": {},
     "source": [
      "## 1. First, we need to create a SC, short for SparkContext, which is the entrance of Spark App."
     ]
    },
    {
     "cell_type": "code",
     "collapsed": false,
     "input": [
      "from pyspark import SparkContext, SparkConf"
     ],
     "language": "python",
     "metadata": {},
     "outputs": [],
     "prompt_number": 1
    },
    {
     "cell_type": "code",
     "collapsed": false,
     "input": [
      "conf = SparkConf().setAppName(\"Spark as Service 1. SinaWeiboHDFS\").setMaster(\"spark://10.21.208.21:7077\")"
     ],
     "language": "python",
     "metadata": {},
     "outputs": [],
     "prompt_number": 2
    },
    {
     "cell_type": "code",
     "collapsed": false,
     "input": [
      "conf.set(\"spark.executor.memory\", \"1g\")\n",
      "conf.getAll()"
     ],
     "language": "python",
     "metadata": {},
     "outputs": [
      {
       "metadata": {},
       "output_type": "pyout",
       "prompt_number": 3,
       "text": [
        "[(u'spark.executor.memory', u'1g'),\n",
        " (u'spark.eventLog.enabled', u'true'),\n",
        " (u'spark.driver.host', u'10.20.70.80'),\n",
        " (u'spark.app.name', u'Spark as Service 1. SinaWeiboHDFS'),\n",
        " (u'spark.eventLog.dir', u'hdfs://10.21.208.21:8020/sparklog'),\n",
        " (u'spark.master', u'spark://10.21.208.21:7077')]"
       ]
      }
     ],
     "prompt_number": 3
    },
    {
     "cell_type": "code",
     "collapsed": false,
     "input": [
      "sc = SparkContext(conf=conf)"
     ],
     "language": "python",
     "metadata": {},
     "outputs": [
      {
       "output_type": "stream",
       "stream": "stderr",
       "text": [
        "ERROR:py4j.java_gateway:Error while sending or receiving.\n",
        "Traceback (most recent call last):\n",
        "  File \"/usr/local/spark-1.2.0-bin-cdh4/python/lib/py4j-0.8.2.1-src.zip/py4j/java_gateway.py\", line 479, in send_command\n",
        "    raise Py4JError(\"Answer from Java side is empty\")\n",
        "Py4JError: Answer from Java side is empty\n"
       ]
      },
      {
       "output_type": "stream",
       "stream": "stderr",
       "text": [
        "ERROR:py4j.java_gateway:An error occurred while trying to connect to the Java server\n",
        "Traceback (most recent call last):\n",
        "  File \"/usr/local/spark-1.2.0-bin-cdh4/python/lib/py4j-0.8.2.1-src.zip/py4j/java_gateway.py\", line 425, in start\n",
        "    self.socket.connect((self.address, self.port))\n",
        "  File \"/root/anaconda/lib/python2.7/socket.py\", line 224, in meth\n",
        "    return getattr(self._sock,name)(*args)\n",
        "error: [Errno 111] Connection refused\n"
       ]
      },
      {
       "output_type": "stream",
       "stream": "stderr",
       "text": [
        "ERROR:py4j.java_gateway:An error occurred while trying to connect to the Java server\n",
        "Traceback (most recent call last):\n",
        "  File \"/usr/local/spark-1.2.0-bin-cdh4/python/lib/py4j-0.8.2.1-src.zip/py4j/java_gateway.py\", line 425, in start\n",
        "    self.socket.connect((self.address, self.port))\n",
        "  File \"/root/anaconda/lib/python2.7/socket.py\", line 224, in meth\n",
        "    return getattr(self._sock,name)(*args)\n",
        "error: [Errno 111] Connection refused\n"
       ]
      },
      {
       "output_type": "stream",
       "stream": "stderr",
       "text": [
        "ERROR:py4j.java_gateway:An error occurred while trying to connect to the Java server\n",
        "Traceback (most recent call last):\n",
        "  File \"/usr/local/spark-1.2.0-bin-cdh4/python/lib/py4j-0.8.2.1-src.zip/py4j/java_gateway.py\", line 425, in start\n",
        "    self.socket.connect((self.address, self.port))\n",
        "  File \"/root/anaconda/lib/python2.7/socket.py\", line 224, in meth\n",
        "    return getattr(self._sock,name)(*args)\n",
        "error: [Errno 111] Connection refused\n"
       ]
      },
      {
       "output_type": "stream",
       "stream": "stderr",
       "text": [
        "ERROR:py4j.java_gateway:An error occurred while trying to connect to the Java server\n",
        "Traceback (most recent call last):\n",
        "  File \"/usr/local/spark-1.2.0-bin-cdh4/python/lib/py4j-0.8.2.1-src.zip/py4j/java_gateway.py\", line 425, in start\n",
        "    self.socket.connect((self.address, self.port))\n",
        "  File \"/root/anaconda/lib/python2.7/socket.py\", line 224, in meth\n",
        "    return getattr(self._sock,name)(*args)\n",
        "error: [Errno 111] Connection refused\n"
       ]
      },
      {
       "output_type": "stream",
       "stream": "stderr",
       "text": [
        "ERROR:py4j.java_gateway:An error occurred while trying to connect to the Java server\n",
        "Traceback (most recent call last):\n",
        "  File \"/usr/local/spark-1.2.0-bin-cdh4/python/lib/py4j-0.8.2.1-src.zip/py4j/java_gateway.py\", line 425, in start\n",
        "    self.socket.connect((self.address, self.port))\n",
        "  File \"/root/anaconda/lib/python2.7/socket.py\", line 224, in meth\n",
        "    return getattr(self._sock,name)(*args)\n",
        "error: [Errno 111] Connection refused\n"
       ]
      },
      {
       "output_type": "stream",
       "stream": "stderr",
       "text": [
        "ERROR:py4j.java_gateway:An error occurred while trying to connect to the Java server\n",
        "Traceback (most recent call last):\n",
        "  File \"/usr/local/spark-1.2.0-bin-cdh4/python/lib/py4j-0.8.2.1-src.zip/py4j/java_gateway.py\", line 425, in start\n",
        "    self.socket.connect((self.address, self.port))\n",
        "  File \"/root/anaconda/lib/python2.7/socket.py\", line 224, in meth\n",
        "    return getattr(self._sock,name)(*args)\n",
        "error: [Errno 111] Connection refused\n"
       ]
      },
      {
       "output_type": "stream",
       "stream": "stderr",
       "text": [
        "ERROR:py4j.java_gateway:An error occurred while trying to connect to the Java server\n",
        "Traceback (most recent call last):\n",
        "  File \"/usr/local/spark-1.2.0-bin-cdh4/python/lib/py4j-0.8.2.1-src.zip/py4j/java_gateway.py\", line 425, in start\n",
        "    self.socket.connect((self.address, self.port))\n",
        "  File \"/root/anaconda/lib/python2.7/socket.py\", line 224, in meth\n",
        "    return getattr(self._sock,name)(*args)\n",
        "error: [Errno 111] Connection refused\n"
       ]
      },
      {
       "output_type": "stream",
       "stream": "stderr",
       "text": [
        "ERROR:py4j.java_gateway:An error occurred while trying to connect to the Java server\n",
        "Traceback (most recent call last):\n",
        "  File \"/usr/local/spark-1.2.0-bin-cdh4/python/lib/py4j-0.8.2.1-src.zip/py4j/java_gateway.py\", line 425, in start\n",
        "    self.socket.connect((self.address, self.port))\n",
        "  File \"/root/anaconda/lib/python2.7/socket.py\", line 224, in meth\n",
        "    return getattr(self._sock,name)(*args)\n",
        "error: [Errno 111] Connection refused\n"
       ]
      },
      {
       "output_type": "stream",
       "stream": "stderr",
       "text": [
        "ERROR:py4j.java_gateway:An error occurred while trying to connect to the Java server\n",
        "Traceback (most recent call last):\n",
        "  File \"/usr/local/spark-1.2.0-bin-cdh4/python/lib/py4j-0.8.2.1-src.zip/py4j/java_gateway.py\", line 425, in start\n",
        "    self.socket.connect((self.address, self.port))\n",
        "  File \"/root/anaconda/lib/python2.7/socket.py\", line 224, in meth\n",
        "    return getattr(self._sock,name)(*args)\n",
        "error: [Errno 111] Connection refused\n"
       ]
      },
      {
       "ename": "Py4JNetworkError",
       "evalue": "An error occurred while trying to connect to the Java server",
       "output_type": "pyerr",
       "traceback": [
        "\u001b[1;31m---------------------------------------------------------------------------\u001b[0m\n\u001b[1;31mPy4JNetworkError\u001b[0m                          Traceback (most recent call last)",
        "\u001b[1;32m<ipython-input-4-6b825dbb354c>\u001b[0m in \u001b[0;36m<module>\u001b[1;34m()\u001b[0m\n\u001b[1;32m----> 1\u001b[1;33m \u001b[0msc\u001b[0m \u001b[1;33m=\u001b[0m \u001b[0mSparkContext\u001b[0m\u001b[1;33m(\u001b[0m\u001b[0mconf\u001b[0m\u001b[1;33m=\u001b[0m\u001b[0mconf\u001b[0m\u001b[1;33m)\u001b[0m\u001b[1;33m\u001b[0m\u001b[0m\n\u001b[0m",
        "\u001b[1;32m/usr/local/spark-1.2.0-bin-cdh4/python/pyspark/context.pyc\u001b[0m in \u001b[0;36m__init__\u001b[1;34m(self, master, appName, sparkHome, pyFiles, environment, batchSize, serializer, conf, gateway, jsc)\u001b[0m\n\u001b[0;32m    103\u001b[0m         \u001b[1;32mtry\u001b[0m\u001b[1;33m:\u001b[0m\u001b[1;33m\u001b[0m\u001b[0m\n\u001b[0;32m    104\u001b[0m             self._do_init(master, appName, sparkHome, pyFiles, environment, batchSize, serializer,\n\u001b[1;32m--> 105\u001b[1;33m                           conf, jsc)\n\u001b[0m\u001b[0;32m    106\u001b[0m         \u001b[1;32mexcept\u001b[0m\u001b[1;33m:\u001b[0m\u001b[1;33m\u001b[0m\u001b[0m\n\u001b[0;32m    107\u001b[0m             \u001b[1;31m# If an error occurs, clean up in order to allow future SparkContext creation:\u001b[0m\u001b[1;33m\u001b[0m\u001b[1;33m\u001b[0m\u001b[0m\n",
        "\u001b[1;32m/usr/local/spark-1.2.0-bin-cdh4/python/pyspark/context.pyc\u001b[0m in \u001b[0;36m_do_init\u001b[1;34m(self, master, appName, sparkHome, pyFiles, environment, batchSize, serializer, conf, jsc)\u001b[0m\n\u001b[0;32m    151\u001b[0m \u001b[1;33m\u001b[0m\u001b[0m\n\u001b[0;32m    152\u001b[0m         \u001b[1;31m# Create the Java SparkContext through Py4J\u001b[0m\u001b[1;33m\u001b[0m\u001b[1;33m\u001b[0m\u001b[0m\n\u001b[1;32m--> 153\u001b[1;33m         \u001b[0mself\u001b[0m\u001b[1;33m.\u001b[0m\u001b[0m_jsc\u001b[0m \u001b[1;33m=\u001b[0m \u001b[0mjsc\u001b[0m \u001b[1;32mor\u001b[0m \u001b[0mself\u001b[0m\u001b[1;33m.\u001b[0m\u001b[0m_initialize_context\u001b[0m\u001b[1;33m(\u001b[0m\u001b[0mself\u001b[0m\u001b[1;33m.\u001b[0m\u001b[0m_conf\u001b[0m\u001b[1;33m.\u001b[0m\u001b[0m_jconf\u001b[0m\u001b[1;33m)\u001b[0m\u001b[1;33m\u001b[0m\u001b[0m\n\u001b[0m\u001b[0;32m    154\u001b[0m \u001b[1;33m\u001b[0m\u001b[0m\n\u001b[0;32m    155\u001b[0m         \u001b[1;31m# Create a single Accumulator in Java that we'll send all our updates through;\u001b[0m\u001b[1;33m\u001b[0m\u001b[1;33m\u001b[0m\u001b[0m\n",
        "\u001b[1;32m/usr/local/spark-1.2.0-bin-cdh4/python/pyspark/context.pyc\u001b[0m in \u001b[0;36m_initialize_context\u001b[1;34m(self, jconf)\u001b[0m\n\u001b[0;32m    199\u001b[0m         \u001b[0mInitialize\u001b[0m \u001b[0mSparkContext\u001b[0m \u001b[1;32min\u001b[0m \u001b[0mfunction\u001b[0m \u001b[0mto\u001b[0m \u001b[0mallow\u001b[0m \u001b[0msubclass\u001b[0m \u001b[0mspecific\u001b[0m \u001b[0minitialization\u001b[0m\u001b[1;33m\u001b[0m\u001b[0m\n\u001b[0;32m    200\u001b[0m         \"\"\"\n\u001b[1;32m--> 201\u001b[1;33m         \u001b[1;32mreturn\u001b[0m \u001b[0mself\u001b[0m\u001b[1;33m.\u001b[0m\u001b[0m_jvm\u001b[0m\u001b[1;33m.\u001b[0m\u001b[0mJavaSparkContext\u001b[0m\u001b[1;33m(\u001b[0m\u001b[0mjconf\u001b[0m\u001b[1;33m)\u001b[0m\u001b[1;33m\u001b[0m\u001b[0m\n\u001b[0m\u001b[0;32m    202\u001b[0m \u001b[1;33m\u001b[0m\u001b[0m\n\u001b[0;32m    203\u001b[0m     \u001b[1;33m@\u001b[0m\u001b[0mclassmethod\u001b[0m\u001b[1;33m\u001b[0m\u001b[0m\n",
        "\u001b[1;32m/usr/local/spark-1.2.0-bin-cdh4/python/lib/py4j-0.8.2.1-src.zip/py4j/java_gateway.py\u001b[0m in \u001b[0;36m__call__\u001b[1;34m(self, *args)\u001b[0m\n\u001b[0;32m    697\u001b[0m             \u001b[0mEND_COMMAND_PART\u001b[0m\u001b[1;33m\u001b[0m\u001b[0m\n\u001b[0;32m    698\u001b[0m \u001b[1;33m\u001b[0m\u001b[0m\n\u001b[1;32m--> 699\u001b[1;33m         \u001b[0manswer\u001b[0m \u001b[1;33m=\u001b[0m \u001b[0mself\u001b[0m\u001b[1;33m.\u001b[0m\u001b[0m_gateway_client\u001b[0m\u001b[1;33m.\u001b[0m\u001b[0msend_command\u001b[0m\u001b[1;33m(\u001b[0m\u001b[0mcommand\u001b[0m\u001b[1;33m)\u001b[0m\u001b[1;33m\u001b[0m\u001b[0m\n\u001b[0m\u001b[0;32m    700\u001b[0m         return_value = get_return_value(answer, self._gateway_client, None,\n\u001b[0;32m    701\u001b[0m                 self._fqn)\n",
        "\u001b[1;32m/usr/local/spark-1.2.0-bin-cdh4/python/lib/py4j-0.8.2.1-src.zip/py4j/java_gateway.py\u001b[0m in \u001b[0;36msend_command\u001b[1;34m(self, command, retry)\u001b[0m\n\u001b[0;32m    367\u001b[0m             \u001b[1;32mif\u001b[0m \u001b[0mretry\u001b[0m\u001b[1;33m:\u001b[0m\u001b[1;33m\u001b[0m\u001b[0m\n\u001b[0;32m    368\u001b[0m                 \u001b[1;31m#print_exc()\u001b[0m\u001b[1;33m\u001b[0m\u001b[1;33m\u001b[0m\u001b[0m\n\u001b[1;32m--> 369\u001b[1;33m                 \u001b[0mresponse\u001b[0m \u001b[1;33m=\u001b[0m \u001b[0mself\u001b[0m\u001b[1;33m.\u001b[0m\u001b[0msend_command\u001b[0m\u001b[1;33m(\u001b[0m\u001b[0mcommand\u001b[0m\u001b[1;33m)\u001b[0m\u001b[1;33m\u001b[0m\u001b[0m\n\u001b[0m\u001b[0;32m    370\u001b[0m             \u001b[1;32melse\u001b[0m\u001b[1;33m:\u001b[0m\u001b[1;33m\u001b[0m\u001b[0m\n\u001b[0;32m    371\u001b[0m                 \u001b[0mresponse\u001b[0m \u001b[1;33m=\u001b[0m \u001b[0mERROR\u001b[0m\u001b[1;33m\u001b[0m\u001b[0m\n",
        "\u001b[1;32m/usr/local/spark-1.2.0-bin-cdh4/python/lib/py4j-0.8.2.1-src.zip/py4j/java_gateway.py\u001b[0m in \u001b[0;36msend_command\u001b[1;34m(self, command, retry)\u001b[0m\n\u001b[0;32m    360\u001b[0m          \u001b[0mthe\u001b[0m \u001b[0mPy4J\u001b[0m \u001b[0mprotocol\u001b[0m\u001b[1;33m.\u001b[0m\u001b[1;33m\u001b[0m\u001b[0m\n\u001b[0;32m    361\u001b[0m         \"\"\"\n\u001b[1;32m--> 362\u001b[1;33m         \u001b[0mconnection\u001b[0m \u001b[1;33m=\u001b[0m \u001b[0mself\u001b[0m\u001b[1;33m.\u001b[0m\u001b[0m_get_connection\u001b[0m\u001b[1;33m(\u001b[0m\u001b[1;33m)\u001b[0m\u001b[1;33m\u001b[0m\u001b[0m\n\u001b[0m\u001b[0;32m    363\u001b[0m         \u001b[1;32mtry\u001b[0m\u001b[1;33m:\u001b[0m\u001b[1;33m\u001b[0m\u001b[0m\n\u001b[0;32m    364\u001b[0m             \u001b[0mresponse\u001b[0m \u001b[1;33m=\u001b[0m \u001b[0mconnection\u001b[0m\u001b[1;33m.\u001b[0m\u001b[0msend_command\u001b[0m\u001b[1;33m(\u001b[0m\u001b[0mcommand\u001b[0m\u001b[1;33m)\u001b[0m\u001b[1;33m\u001b[0m\u001b[0m\n",
        "\u001b[1;32m/usr/local/spark-1.2.0-bin-cdh4/python/lib/py4j-0.8.2.1-src.zip/py4j/java_gateway.py\u001b[0m in \u001b[0;36m_get_connection\u001b[1;34m(self)\u001b[0m\n\u001b[0;32m    316\u001b[0m             \u001b[0mconnection\u001b[0m \u001b[1;33m=\u001b[0m \u001b[0mself\u001b[0m\u001b[1;33m.\u001b[0m\u001b[0mdeque\u001b[0m\u001b[1;33m.\u001b[0m\u001b[0mpop\u001b[0m\u001b[1;33m(\u001b[0m\u001b[1;33m)\u001b[0m\u001b[1;33m\u001b[0m\u001b[0m\n\u001b[0;32m    317\u001b[0m         \u001b[1;32mexcept\u001b[0m \u001b[0mException\u001b[0m\u001b[1;33m:\u001b[0m\u001b[1;33m\u001b[0m\u001b[0m\n\u001b[1;32m--> 318\u001b[1;33m             \u001b[0mconnection\u001b[0m \u001b[1;33m=\u001b[0m \u001b[0mself\u001b[0m\u001b[1;33m.\u001b[0m\u001b[0m_create_connection\u001b[0m\u001b[1;33m(\u001b[0m\u001b[1;33m)\u001b[0m\u001b[1;33m\u001b[0m\u001b[0m\n\u001b[0m\u001b[0;32m    319\u001b[0m         \u001b[1;32mreturn\u001b[0m \u001b[0mconnection\u001b[0m\u001b[1;33m\u001b[0m\u001b[0m\n\u001b[0;32m    320\u001b[0m \u001b[1;33m\u001b[0m\u001b[0m\n",
        "\u001b[1;32m/usr/local/spark-1.2.0-bin-cdh4/python/lib/py4j-0.8.2.1-src.zip/py4j/java_gateway.py\u001b[0m in \u001b[0;36m_create_connection\u001b[1;34m(self)\u001b[0m\n\u001b[0;32m    323\u001b[0m         connection = GatewayConnection(self.address, self.port,\n\u001b[0;32m    324\u001b[0m                 self.auto_close, self.gateway_property)\n\u001b[1;32m--> 325\u001b[1;33m         \u001b[0mconnection\u001b[0m\u001b[1;33m.\u001b[0m\u001b[0mstart\u001b[0m\u001b[1;33m(\u001b[0m\u001b[1;33m)\u001b[0m\u001b[1;33m\u001b[0m\u001b[0m\n\u001b[0m\u001b[0;32m    326\u001b[0m         \u001b[1;32mreturn\u001b[0m \u001b[0mconnection\u001b[0m\u001b[1;33m\u001b[0m\u001b[0m\n\u001b[0;32m    327\u001b[0m \u001b[1;33m\u001b[0m\u001b[0m\n",
        "\u001b[1;32m/usr/local/spark-1.2.0-bin-cdh4/python/lib/py4j-0.8.2.1-src.zip/py4j/java_gateway.py\u001b[0m in \u001b[0;36mstart\u001b[1;34m(self)\u001b[0m\n\u001b[0;32m    430\u001b[0m                 \u001b[1;34m'server'\u001b[0m\u001b[1;33m\u001b[0m\u001b[0m\n\u001b[0;32m    431\u001b[0m             \u001b[0mlogger\u001b[0m\u001b[1;33m.\u001b[0m\u001b[0mexception\u001b[0m\u001b[1;33m(\u001b[0m\u001b[0mmsg\u001b[0m\u001b[1;33m)\u001b[0m\u001b[1;33m\u001b[0m\u001b[0m\n\u001b[1;32m--> 432\u001b[1;33m             \u001b[1;32mraise\u001b[0m \u001b[0mPy4JNetworkError\u001b[0m\u001b[1;33m(\u001b[0m\u001b[0mmsg\u001b[0m\u001b[1;33m)\u001b[0m\u001b[1;33m\u001b[0m\u001b[0m\n\u001b[0m\u001b[0;32m    433\u001b[0m \u001b[1;33m\u001b[0m\u001b[0m\n\u001b[0;32m    434\u001b[0m     \u001b[1;32mdef\u001b[0m \u001b[0mclose\u001b[0m\u001b[1;33m(\u001b[0m\u001b[0mself\u001b[0m\u001b[1;33m)\u001b[0m\u001b[1;33m:\u001b[0m\u001b[1;33m\u001b[0m\u001b[0m\n",
        "\u001b[1;31mPy4JNetworkError\u001b[0m: An error occurred while trying to connect to the Java server"
       ]
      }
     ],
     "prompt_number": 4
    },
    {
     "cell_type": "code",
     "collapsed": false,
     "input": [
      "## Do not execute this untill ... \n",
      "sc.stop()"
     ],
     "language": "python",
     "metadata": {},
     "outputs": [],
     "prompt_number": 6
    },
    {
     "cell_type": "markdown",
     "metadata": {},
     "source": [
      "## 2. Ok, now, let's load data from HDFS and take a look at the data structure of each piece of the data;"
     ]
    },
    {
     "cell_type": "code",
     "collapsed": false,
     "input": [
      "content = sc.textFile(\"hdfs://10.21.208.21:8020/dw/mercury/sina_history_0001.dat\")"
     ],
     "language": "python",
     "metadata": {},
     "outputs": [],
     "prompt_number": 52
    },
    {
     "cell_type": "code",
     "collapsed": false,
     "input": [
      "## To see how many piece data here is.\n",
      "content.count()"
     ],
     "language": "python",
     "metadata": {},
     "outputs": [
      {
       "metadata": {},
       "output_type": "pyout",
       "prompt_number": 53,
       "text": [
        "5000"
       ]
      }
     ],
     "prompt_number": 53
    },
    {
     "cell_type": "code",
     "collapsed": false,
     "input": [
      "one_piece = content.take(1)"
     ],
     "language": "python",
     "metadata": {},
     "outputs": [],
     "prompt_number": 11
    },
    {
     "cell_type": "code",
     "collapsed": false,
     "input": [
      "print \"piece_type: \", type(one_piece)"
     ],
     "language": "python",
     "metadata": {},
     "outputs": [
      {
       "output_type": "stream",
       "stream": "stdout",
       "text": [
        "piece_type:  <type 'list'>\n"
       ]
      }
     ],
     "prompt_number": 12
    },
    {
     "cell_type": "code",
     "collapsed": false,
     "input": [
      "print \"piece_length: \", len(one_piece)"
     ],
     "language": "python",
     "metadata": {},
     "outputs": [
      {
       "output_type": "stream",
       "stream": "stdout",
       "text": [
        "piece_length:  1\n"
       ]
      }
     ],
     "prompt_number": 13
    },
    {
     "cell_type": "code",
     "collapsed": false,
     "input": [
      "element = one_piece[0]\n",
      "element = eval(element)\n",
      "print \"type of the element in the list: \", type(element)"
     ],
     "language": "python",
     "metadata": {},
     "outputs": [
      {
       "output_type": "stream",
       "stream": "stdout",
       "text": [
        "type of the element in the list:  <type 'dict'>\n"
       ]
      }
     ],
     "prompt_number": 14
    },
    {
     "cell_type": "code",
     "collapsed": false,
     "input": [
      "print \"keys of element: \", element.keys()"
     ],
     "language": "python",
     "metadata": {},
     "outputs": [
      {
       "output_type": "stream",
       "stream": "stdout",
       "text": [
        "keys of element:  ['msg', 'index', '_id']\n"
       ]
      }
     ],
     "prompt_number": 15
    },
    {
     "cell_type": "code",
     "collapsed": false,
     "input": [
      "print \"how many weibo messages in one element: \", len(element[\"msg\"])"
     ],
     "language": "python",
     "metadata": {},
     "outputs": [
      {
       "output_type": "stream",
       "stream": "stdout",
       "text": [
        "how many weibo messages in one element:  193\n"
       ]
      }
     ],
     "prompt_number": 16
    },
    {
     "cell_type": "markdown",
     "metadata": {},
     "source": [
      "## 3. How many messages exactly in this file?"
     ]
    },
    {
     "cell_type": "code",
     "collapsed": false,
     "input": [
      "dict_element = content.map(lambda element: eval(element))"
     ],
     "language": "python",
     "metadata": {},
     "outputs": [],
     "prompt_number": 17
    },
    {
     "cell_type": "code",
     "collapsed": false,
     "input": [
      "msg_element = dict_element.map(lambda element: element.get(\"msg\", None))"
     ],
     "language": "python",
     "metadata": {},
     "outputs": [],
     "prompt_number": 18
    },
    {
     "cell_type": "code",
     "collapsed": false,
     "input": [
      "msg_length = msg_element.map(lambda message: len(message))"
     ],
     "language": "python",
     "metadata": {},
     "outputs": [],
     "prompt_number": 19
    },
    {
     "cell_type": "code",
     "collapsed": false,
     "input": [
      "msg_length.sum()"
     ],
     "language": "python",
     "metadata": {},
     "outputs": [
      {
       "metadata": {},
       "output_type": "pyout",
       "prompt_number": 20,
       "text": [
        "958525"
       ]
      }
     ],
     "prompt_number": 20
    },
    {
     "cell_type": "code",
     "collapsed": false,
     "input": [
      "### All these can be done in just one sentence, but internally, the two methods are the same.\n",
      "content.map(lambda element: eval(element)).map(lambda element: element.get(\"msg\", None)).map(lambda message: len(message)).sum()"
     ],
     "language": "python",
     "metadata": {},
     "outputs": [
      {
       "metadata": {},
       "output_type": "pyout",
       "prompt_number": 21,
       "text": [
        "958525"
       ]
      }
     ],
     "prompt_number": 21
    },
    {
     "cell_type": "markdown",
     "metadata": {},
     "source": [
      "## 4. Do some filtering, the easiest way!"
     ]
    },
    {
     "cell_type": "code",
     "collapsed": false,
     "input": [
      "def filter_func(key_word, message):\n",
      "    if message and \"text\" in message and key_word in message[\"text\"]:\n",
      "        return True\n",
      "    else:\n",
      "        return False"
     ],
     "language": "python",
     "metadata": {},
     "outputs": [],
     "prompt_number": 22
    },
    {
     "cell_type": "code",
     "collapsed": false,
     "input": [
      "def pop(message_list):\n",
      "    if message_list:\n",
      "        return message_list.pop(0)"
     ],
     "language": "python",
     "metadata": {},
     "outputs": [],
     "prompt_number": 23
    },
    {
     "cell_type": "code",
     "collapsed": false,
     "input": [
      "flat_msg = msg_element.map(lambda message: pop(message))"
     ],
     "language": "python",
     "metadata": {},
     "outputs": [],
     "prompt_number": 24
    },
    {
     "cell_type": "code",
     "collapsed": false,
     "input": [
      "## cache in memeory\n",
      "flat_msg.cache()"
     ],
     "language": "python",
     "metadata": {},
     "outputs": [
      {
       "metadata": {},
       "output_type": "pyout",
       "prompt_number": 25,
       "text": [
        "PythonRDD[6] at RDD at PythonRDD.scala:43"
       ]
      }
     ],
     "prompt_number": 25
    },
    {
     "cell_type": "code",
     "collapsed": false,
     "input": [
      "## took 0.088602 s, before 11.*** s\n",
      "flat_msg.count()"
     ],
     "language": "python",
     "metadata": {},
     "outputs": [
      {
       "metadata": {},
       "output_type": "pyout",
       "prompt_number": 28,
       "text": [
        "5000"
       ]
      }
     ],
     "prompt_number": 28
    },
    {
     "cell_type": "code",
     "collapsed": false,
     "input": [
      "flat_msg.take(1)"
     ],
     "language": "python",
     "metadata": {},
     "outputs": [
      {
       "metadata": {},
       "output_type": "pyout",
       "prompt_number": 29,
       "text": [
        "[{'created_at': 'Mon Feb 02 17:22:52 +0800 2015',\n",
        "  'location': '\\xe9\\x87\\x8d\\xe5\\xba\\x86 \\xe6\\xb2\\x99\\xe5\\x9d\\xaa\\xe5\\x9d\\x9d\\xe5\\x8c\\xba',\n",
        "  'name': '\\xe5\\xbb\\xba\\xe8\\x8b\\xb1_mua',\n",
        "  'text': '\\xe4\\xbb\\x8a\\xe5\\xa4\\xa9\\xe7\\xbb\\x88\\xe4\\xba\\x8e\\xe4\\xba\\xab\\xe5\\x8f\\x97\\xe5\\x88\\xb0\\xe6\\x8d\\x9e\\xe7\\x99\\xbd\\xe5\\xa4\\xa9!!!!'}]"
       ]
      }
     ],
     "prompt_number": 29
    },
    {
     "cell_type": "code",
     "collapsed": false,
     "input": [
      "filter_msg = flat_msg.filter(lambda message: filter_func(\"\u5927\u76d8\", message))"
     ],
     "language": "python",
     "metadata": {},
     "outputs": [],
     "prompt_number": 30
    },
    {
     "cell_type": "code",
     "collapsed": false,
     "input": [
      "filter_msg.count()"
     ],
     "language": "python",
     "metadata": {},
     "outputs": [
      {
       "metadata": {},
       "output_type": "pyout",
       "prompt_number": 31,
       "text": [
        "1"
       ]
      }
     ],
     "prompt_number": 31
    },
    {
     "cell_type": "code",
     "collapsed": false,
     "input": [
      "res = filter_msg.collect()"
     ],
     "language": "python",
     "metadata": {},
     "outputs": [],
     "prompt_number": 32
    },
    {
     "cell_type": "code",
     "collapsed": false,
     "input": [
      "import json"
     ],
     "language": "python",
     "metadata": {},
     "outputs": [],
     "prompt_number": 33
    },
    {
     "cell_type": "code",
     "collapsed": false,
     "input": [
      "for i in res:\n",
      "    print \"--------------------------------\\n\"\n",
      "    print json.dumps(i).decode(\"unicode-escape\")"
     ],
     "language": "python",
     "metadata": {},
     "outputs": [
      {
       "output_type": "stream",
       "stream": "stdout",
       "text": [
        "--------------------------------\n",
        "\n",
        "{\"text\": \"\u4ece\u65e9\u5e02\u5f00\u76d815\u5206\u949f\u4ea4\u6613\u6765\u5206\u6790\uff1a\u6caa\u6df1\u5927\u76d8\u9ad8\u5f00\uff0c\u56de\u6863\u540e\u518d\u4e0a\u6da8\uff01\u76d8\u4e2d\u6b21\u65b0\u80a1\u3001\u4ea4\u901a\u8fd0\u8f93\u3001\u77f3\u6cb9\u3001\u91d1\u878d\u884c\u4e1a\u677f\u5757\u5c45\u4e0a\u6da8\u524d\u5217\uff0c\u4ece\u6caa\u6df1\u5927\u76d815\u5206\u949fK\u7ebf\u7ec4\u5408\u6765\u5206\u6790\uff1a\u4e0b\u4e00\u4e2a15\u5206\u949f\u6caa\u6df1\u5927\u76d8\u7565\u56de\u843d\u3002\", \"created_at\": \"Tue Feb 03 09:52:27 +0800 2015\", \"name\": \"\u738b\u6d77\u5cf0-\u80a1\u7968\u5206\u6790\u5e08\", \"location\": \"\u5b81\u590f \u94f6\u5ddd\"}\n"
       ]
      }
     ],
     "prompt_number": 34
    },
    {
     "cell_type": "code",
     "collapsed": false,
     "input": [
      "import sys\n",
      "print sys.path"
     ],
     "language": "python",
     "metadata": {},
     "outputs": [
      {
       "output_type": "stream",
       "stream": "stdout",
       "text": [
        "['/usr/local/spark-1.2.0-bin-cdh4/python/lib/py4j-0.8.2.1-src.zip', u'/tmp/spark-521a1178-7381-422a-9e76-f506ea6e9b0c', u'/tmp/spark-de3d8643-9fd1-4476-9f2b-6c2bc3d2aadc', '/usr/local/spark-1.2.0-bin-cdh4/python', '', '/root/anaconda/lib/python27.zip', '/root/anaconda/lib/python2.7', '/root/anaconda/lib/python2.7/plat-linux2', '/root/anaconda/lib/python2.7/lib-tk', '/root/anaconda/lib/python2.7/lib-old', '/root/anaconda/lib/python2.7/lib-dynload', '/root/anaconda/lib/python2.7/site-packages', '/root/anaconda/lib/python2.7/site-packages/aniso8601-0.82-py2.7.egg', '/root/anaconda/lib/python2.7/site-packages/pymongo-2.7.1-py2.7-linux-x86_64.egg', '/root/anaconda/lib/python2.7/site-packages/setuptools-3.1-py2.7.egg', '/root/anaconda/lib/python2.7/site-packages/sso4python-1.1.0-py2.7.egg', '/root/anaconda/lib/python2.7/site-packages/IPython/extensions']\n"
       ]
      }
     ],
     "prompt_number": 35
    },
    {
     "cell_type": "code",
     "collapsed": false,
     "input": [],
     "language": "python",
     "metadata": {},
     "outputs": []
    }
   ],
   "metadata": {}
  }
 ]
}