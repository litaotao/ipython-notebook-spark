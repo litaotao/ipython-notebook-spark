{
 "metadata": {
  "name": ""
 },
 "nbformat": 3,
 "nbformat_minor": 0,
 "worksheets": [
  {
   "cells": [
    {
     "cell_type": "markdown",
     "metadata": {
      "slideshow": {
       "slide_type": "slide"
      }
     },
     "source": [
      "# ***SinaWeiboStreaming***"
     ]
    },
    {
     "cell_type": "markdown",
     "metadata": {
      "slideshow": {
       "slide_type": "slide"
      }
     },
     "source": [
      "## 1. Create a SparkContext"
     ]
    },
    {
     "cell_type": "code",
     "collapsed": false,
     "input": [
      "from pyspark import SparkConf, SparkContext\n",
      "from pyspark.streaming import StreamingContext"
     ],
     "language": "python",
     "metadata": {
      "slideshow": {
       "slide_type": "subslide"
      }
     },
     "outputs": [],
     "prompt_number": 23
    },
    {
     "cell_type": "code",
     "collapsed": false,
     "input": [
      "conf = SparkConf().setAppName(\"Spark as Service 3. SinaWeiboStreaming\").setMaster(\"spark://10.21.208.21:7077\")\n",
      "sc = SparkContext(conf = conf)"
     ],
     "language": "python",
     "metadata": {
      "slideshow": {
       "slide_type": "subslide"
      }
     },
     "outputs": [],
     "prompt_number": 24
    },
    {
     "cell_type": "markdown",
     "metadata": {},
     "source": [
      "## 2. Create a SparkStreamingContext and define our DStream"
     ]
    },
    {
     "cell_type": "code",
     "collapsed": false,
     "input": [
      "ssc = StreamingContext(sc, 5)"
     ],
     "language": "python",
     "metadata": {},
     "outputs": [],
     "prompt_number": 43
    },
    {
     "cell_type": "code",
     "collapsed": false,
     "input": [
      "HOST, PORT, WORKERS = \"10.20.102.52\", 9999, 9"
     ],
     "language": "python",
     "metadata": {},
     "outputs": [],
     "prompt_number": 35
    },
    {
     "cell_type": "code",
     "collapsed": false,
     "input": [
      "DStream = [ ssc.socketTextStream(HOST, PORT) for i in range(WORKERS) ]"
     ],
     "language": "python",
     "metadata": {},
     "outputs": [],
     "prompt_number": 36
    },
    {
     "cell_type": "code",
     "collapsed": false,
     "input": [
      "# UnionDStream \n",
      "UnionDStream = DStream[0].union(DStream[1]).union(DStream[2]).union(DStream[3]).union(DStream[4]).union(DStream[5]).union(DStream[6]).union(DStream[7]).union(DStream[8])"
     ],
     "language": "python",
     "metadata": {},
     "outputs": [],
     "prompt_number": 37
    },
    {
     "cell_type": "code",
     "collapsed": false,
     "input": [
      "def trans(DStream):\n",
      "    SplitDStream = DStream.map(lambda line: line.split(\"[@3#2$7%]\"))\n",
      "    EvalDStream = SplitDStream.map(lambda line: eval(line[2]))\n",
      "    return EvalDStream"
     ],
     "language": "python",
     "metadata": {},
     "outputs": [],
     "prompt_number": 38
    },
    {
     "cell_type": "code",
     "collapsed": false,
     "input": [
      "TransDStream = trans(UnionDStream)"
     ],
     "language": "python",
     "metadata": {},
     "outputs": [],
     "prompt_number": 39
    },
    {
     "cell_type": "code",
     "collapsed": false,
     "input": [
      "## real-time print\n",
      "TransDStream.pprint()"
     ],
     "language": "python",
     "metadata": {},
     "outputs": [],
     "prompt_number": 40
    },
    {
     "cell_type": "code",
     "collapsed": false,
     "input": [
      "ssc.start()"
     ],
     "language": "python",
     "metadata": {},
     "outputs": [],
     "prompt_number": 41
    },
    {
     "cell_type": "code",
     "collapsed": false,
     "input": [
      "## will ssc.stop call sc.stop? Not stop on time.\n",
      "ssc.stop(stopSparkContext=False)"
     ],
     "language": "python",
     "metadata": {},
     "outputs": [],
     "prompt_number": 44
    },
    {
     "cell_type": "code",
     "collapsed": false,
     "input": [
      "sc.stop()"
     ],
     "language": "python",
     "metadata": {},
     "outputs": [],
     "prompt_number": 45
    },
    {
     "cell_type": "code",
     "collapsed": false,
     "input": [
      "help(ssc.awaitTermination)"
     ],
     "language": "python",
     "metadata": {},
     "outputs": [
      {
       "output_type": "stream",
       "stream": "stdout",
       "text": [
        "Help on method awaitTermination in module pyspark.streaming.context:\n",
        "\n",
        "awaitTermination(self, timeout=None) method of pyspark.streaming.context.StreamingContext instance\n",
        "    Wait for the execution to stop.\n",
        "    @param timeout: time to wait in seconds\n",
        "\n"
       ]
      }
     ],
     "prompt_number": 32
    },
    {
     "cell_type": "code",
     "collapsed": false,
     "input": [
      "help(ssc.stop)"
     ],
     "language": "python",
     "metadata": {},
     "outputs": [
      {
       "output_type": "stream",
       "stream": "stdout",
       "text": [
        "Help on method stop in module pyspark.streaming.context:\n",
        "\n",
        "stop(self, stopSparkContext=True, stopGraceFully=False) method of pyspark.streaming.context.StreamingContext instance\n",
        "    Stop the execution of the streams, with option of ensuring all\n",
        "    received data has been processed.\n",
        "    \n",
        "    @param stopSparkContext: Stop the associated SparkContext or not\n",
        "    @param stopGracefully: Stop gracefully by waiting for the processing\n",
        "                          of all received data to be completed\n",
        "\n"
       ]
      }
     ],
     "prompt_number": 33
    },
    {
     "cell_type": "code",
     "collapsed": false,
     "input": [],
     "language": "python",
     "metadata": {},
     "outputs": []
    }
   ],
   "metadata": {}
  }
 ]
}